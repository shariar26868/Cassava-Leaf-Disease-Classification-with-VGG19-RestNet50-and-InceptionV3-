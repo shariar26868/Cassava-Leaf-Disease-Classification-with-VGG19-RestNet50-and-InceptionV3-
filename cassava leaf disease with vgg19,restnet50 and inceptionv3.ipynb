{
  "nbformat": 4,
  "nbformat_minor": 0,
  "metadata": {
    "colab": {
      "provenance": [],
      "cell_execution_strategy": "setup"
    },
    "kernelspec": {
      "name": "python3",
      "display_name": "Python 3"
    },
    "language_info": {
      "name": "python"
    }
  },
  "cells": [
    {
      "cell_type": "code",
      "execution_count": null,
      "metadata": {
        "id": "tvXRndBI5wfw"
      },
      "outputs": [],
      "source": [
        "from google.colab import drive\n",
        "drive.mount('/content/drive')"
      ]
    },
    {
      "cell_type": "code",
      "source": [
        "import tensorflow as tf\n",
        "from tensorflow.keras.layers import Input, Flatten, Dense\n",
        "from tensorflow.keras.models import Model\n",
        "from tensorflow.keras.applications import VGG19, ResNet50\n",
        "from tensorflow.keras.optimizers import Adam\n",
        "from tensorflow.keras.preprocessing.image import ImageDataGenerator"
      ],
      "metadata": {
        "id": "tcwg-aYZ553e"
      },
      "execution_count": null,
      "outputs": []
    },
    {
      "cell_type": "code",
      "source": [
        "train_dir = '/content/drive/My Drive/cassava_leaf_disease/train'\n",
        "test_dir = '/content/drive/My Drive/cassava_leaf_disease/test'\n"
      ],
      "metadata": {
        "id": "610BtnvM6F8_"
      },
      "execution_count": null,
      "outputs": []
    },
    {
      "cell_type": "code",
      "source": [
        "image_size = (224, 224)\n",
        "batch_size = 32"
      ],
      "metadata": {
        "id": "U8O-PePz6IZ9"
      },
      "execution_count": null,
      "outputs": []
    },
    {
      "cell_type": "code",
      "source": [
        "# Data augmentation and normalization\n",
        "train_datagen = ImageDataGenerator(\n",
        "    rescale=1./255,             # Rescale pixel values to [0, 1]\n",
        "    shear_range=0.2,            # Shear transformations\n",
        "    zoom_range=0.2,             # Zoom transformations\n",
        "    horizontal_flip=True       # Horizontal flips\n",
        ")\n",
        "\n",
        "test_datagen = ImageDataGenerator(rescale=1./255)"
      ],
      "metadata": {
        "id": "FnpTcN8f6I31"
      },
      "execution_count": null,
      "outputs": []
    },
    {
      "cell_type": "code",
      "source": [
        "\n",
        "# Load the training and test datasets\n",
        "train_generator = train_datagen.flow_from_directory(\n",
        "    train_dir,\n",
        "    target_size=image_size,\n",
        "    batch_size=batch_size,\n",
        "    class_mode='categorical'\n",
        ")"
      ],
      "metadata": {
        "id": "BkEUa-mO6NXV"
      },
      "execution_count": null,
      "outputs": []
    },
    {
      "cell_type": "code",
      "source": [
        "test_generator = test_datagen.flow_from_directory(\n",
        "    test_dir,\n",
        "    target_size=image_size,\n",
        "    batch_size=batch_size,\n",
        "    class_mode='categorical'\n",
        ")\n"
      ],
      "metadata": {
        "id": "kbhMa0lT6SgL"
      },
      "execution_count": null,
      "outputs": []
    },
    {
      "cell_type": "code",
      "source": [
        "# VGG19 Model\n",
        "def build_vgg19():\n",
        "    # Load pre-trained VGG19 model with ImageNet weights\n",
        "    base_model = VGG19(input_shape=(image_size[0], image_size[1], 3), weights='imagenet', include_top=False)\n",
        "\n",
        "    # Freeze base model layers to prevent training\n",
        "    for layer in base_model.layers:\n",
        "        layer.trainable = False\n",
        "\n",
        "    # Flatten the output of the base model\n",
        "    x = Flatten()(base_model.output)\n",
        "\n",
        "    # Add a dense layer with ReLU activation\n",
        "    x = Dense(512, activation='relu')(x)\n",
        "\n",
        "    # Output layer with softmax activation for classification\n",
        "    outputs = Dense(len(train_generator.class_indices), activation='softmax')(x)\n",
        "\n",
        "    # Construct the model\n",
        "    model = Model(inputs=base_model.input, outputs=outputs)\n",
        "    return model\n"
      ],
      "metadata": {
        "id": "9NzPiyOd6Vy7"
      },
      "execution_count": null,
      "outputs": []
    },
    {
      "cell_type": "code",
      "source": [
        "# Compile and train VGG19\n",
        "vgg19_model = build_vgg19()\n",
        "vgg19_model.compile(optimizer='adam', loss='categorical_crossentropy', metrics=['accuracy'])\n",
        "vgg19_history = vgg19_model.fit(train_generator, validation_data=test_generator, epochs=5)"
      ],
      "metadata": {
        "id": "ChLekxgc6YA9"
      },
      "execution_count": null,
      "outputs": []
    },
    {
      "cell_type": "markdown",
      "source": [
        "RestNet50"
      ],
      "metadata": {
        "id": "pYDVQnFp6Zjz"
      }
    },
    {
      "cell_type": "code",
      "source": [
        "# ResNet50 Model\n",
        "def build_resnet50():\n",
        "    # Load pre-trained ResNet50 model with ImageNet weights\n",
        "    base_model = ResNet50(input_shape=(image_size[0], image_size[1], 3), weights='imagenet', include_top=False)\n",
        "\n",
        "    # Freeze base model layers to prevent training\n",
        "    for layer in base_model.layers:\n",
        "        layer.trainable = False\n",
        "\n",
        "    # Flatten the output of the base model\n",
        "    x = Flatten()(base_model.output)\n",
        "\n",
        "    # Add a dense layer with ReLU activation\n",
        "    x = Dense(512, activation='relu')(x)\n",
        "\n",
        "    # Output layer with softmax activation for classification\n",
        "    outputs = Dense(len(train_generator.class_indices), activation='softmax')(x)\n",
        "\n",
        "    # Construct the model\n",
        "    model = Model(inputs=base_model.input, outputs=outputs)\n",
        "    return model\n"
      ],
      "metadata": {
        "id": "fabyrX8l6c3T"
      },
      "execution_count": null,
      "outputs": []
    },
    {
      "cell_type": "code",
      "source": [
        "# Compile and train ResNet50\n",
        "resnet50_model = build_resnet50()\n",
        "resnet50_model.compile(optimizer=Adam(lr=0.001), loss='categorical_crossentropy', metrics=['accuracy'])\n",
        "resnet50_history = resnet50_model.fit(train_generator, validation_data=test_generator, epochs=5)\n"
      ],
      "metadata": {
        "id": "xUKsjYjA6g62"
      },
      "execution_count": null,
      "outputs": []
    },
    {
      "cell_type": "code",
      "source": [
        "from tensorflow.keras.applications import InceptionV3\n",
        "\n",
        "# InceptionV3 Model\n",
        "def build_inceptionv3():\n",
        "    # Load pre-trained InceptionV3 model with ImageNet weights\n",
        "    base_model = InceptionV3(input_shape=(image_size[0], image_size[1], 3), weights='imagenet', include_top=False)\n",
        "\n",
        "    # Freeze base model layers to prevent training\n",
        "    for layer in base_model.layers:\n",
        "        layer.trainable = False\n",
        "\n",
        "    # Flatten the output of the base model\n",
        "    x = Flatten()(base_model.output)\n",
        "\n",
        "    # Add a dense layer with ReLU activation\n",
        "    x = Dense(512, activation='relu')(x)\n",
        "\n",
        "    # Output layer with softmax activation for classification\n",
        "    outputs = Dense(len(train_generator.class_indices), activation='softmax')(x)\n",
        "\n",
        "    # Construct the model\n",
        "    model = Model(inputs=base_model.input, outputs=outputs)\n",
        "    return model"
      ],
      "metadata": {
        "id": "dzDxpzLx6kWt"
      },
      "execution_count": null,
      "outputs": []
    },
    {
      "cell_type": "code",
      "source": [
        "# Compile and train InceptionV3\n",
        "inceptionv3_model = build_inceptionv3()\n",
        "inceptionv3_model.compile(optimizer='adam', loss='categorical_crossentropy', metrics=['accuracy'])\n",
        "inceptionv3_history = inceptionv3_model.fit(train_generator, validation_data=test_generator, epochs=5)"
      ],
      "metadata": {
        "id": "sayEl8L96mar"
      },
      "execution_count": null,
      "outputs": []
    },
    {
      "cell_type": "code",
      "source": [
        "import matplotlib.pyplot as plt\n",
        "from sklearn.metrics import accuracy_score, f1_score, precision_score, recall_score, classification_report, confusion_matrix\n",
        "\n",
        "# Function to plot training history\n",
        "def plot_training_history(history, metric='accuracy'):\n",
        "    plt.plot(history.history[metric])\n",
        "    plt.plot(history.history['val_' + metric])\n",
        "    plt.title('Model ' + metric)\n",
        "    plt.ylabel(metric)\n",
        "    plt.xlabel('Epoch')\n",
        "    plt.legend(['Train', 'Validation'], loc='upper left')\n",
        "    plt.show()\n"
      ],
      "metadata": {
        "id": "z-wuTfAE6tBT"
      },
      "execution_count": null,
      "outputs": []
    },
    {
      "cell_type": "code",
      "source": [
        "# Plot training history for VGG19\n",
        "plot_training_history(vgg19_history, metric='accuracy')\n",
        "plot_training_history(vgg19_history, metric='loss')"
      ],
      "metadata": {
        "id": "V4QUw8Id6vm6"
      },
      "execution_count": null,
      "outputs": []
    },
    {
      "cell_type": "code",
      "source": [
        "# Plot training history for ResNet50\n",
        "plot_training_history(resnet50_history, metric='accuracy')\n",
        "plot_training_history(resnet50_history, metric='loss')"
      ],
      "metadata": {
        "id": "km7994SZ6x8P"
      },
      "execution_count": null,
      "outputs": []
    },
    {
      "cell_type": "code",
      "source": [
        "# Plot training history for InceptionV3\n",
        "plot_training_history(inceptionv3_history, metric='accuracy')\n",
        "plot_training_history(inceptionv3_history, metric='loss')"
      ],
      "metadata": {
        "id": "PWH9uqvC60IS"
      },
      "execution_count": null,
      "outputs": []
    },
    {
      "cell_type": "code",
      "source": [
        "# Function to evaluate model\n",
        "def evaluate_model(model, test_generator):\n",
        "    # Predict labels\n",
        "    y_pred = model.predict(test_generator)\n",
        "    y_pred_classes = np.argmax(y_pred, axis=1)\n",
        "    y_true = test_generator.classes\n",
        "\n",
        "    # Accuracy\n",
        "    accuracy = accuracy_score(y_true, y_pred_classes)\n",
        "    print('Accuracy:', accuracy)\n",
        "\n",
        "    # Precision\n",
        "    precision = precision_score(y_true, y_pred_classes, average='weighted')\n",
        "    print('Precision:', precision)\n",
        "\n",
        "    # Recall\n",
        "    recall = recall_score(y_true, y_pred_classes, average='weighted')\n",
        "    print('Recall:', recall)\n",
        "\n",
        "    # F1 score\n",
        "    f1 = f1_score(y_true, y_pred_classes, average='weighted')\n",
        "    print('F1 Score:', f1)\n",
        "\n",
        "    # Classification report\n",
        "    print('Classification Report:')\n",
        "    print(classification_report(y_true, y_pred_classes))\n",
        "\n",
        "    # Confusion matrix\n",
        "    print('Confusion Matrix:')\n",
        "    print(confusion_matrix(y_true, y_pred_classes))"
      ],
      "metadata": {
        "id": "heKHU3LD64hM"
      },
      "execution_count": null,
      "outputs": []
    },
    {
      "cell_type": "code",
      "source": [
        "# Evaluate VGG19 model\n",
        "print('Evaluation for VGG19 model:')\n",
        "evaluate_model(vgg19_model, test_generator)"
      ],
      "metadata": {
        "id": "alOSHObD67D0"
      },
      "execution_count": null,
      "outputs": []
    },
    {
      "cell_type": "code",
      "source": [
        "# Evaluate ResNet50 model\n",
        "print('Evaluation for ResNet50 model:')\n",
        "evaluate_model(resnet50_model, test_generator)"
      ],
      "metadata": {
        "id": "qtCCyd5e68tv"
      },
      "execution_count": null,
      "outputs": []
    },
    {
      "cell_type": "code",
      "source": [
        "# Evaluate InceptionV3 model\n",
        "print('Evaluation for InceptionV3 model:')\n",
        "evaluate_model(inceptionv3_model, test_generator)"
      ],
      "metadata": {
        "id": "xSDqZupg6-k0"
      },
      "execution_count": null,
      "outputs": []
    }
  ]
}